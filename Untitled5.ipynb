{
  "nbformat": 4,
  "nbformat_minor": 0,
  "metadata": {
    "colab": {
      "provenance": [],
      "authorship_tag": "ABX9TyN2o/tHfwILyNAxVSFY80Js",
      "include_colab_link": true
    },
    "kernelspec": {
      "name": "python3",
      "display_name": "Python 3"
    },
    "language_info": {
      "name": "python"
    }
  },
  "cells": [
    {
      "cell_type": "markdown",
      "metadata": {
        "id": "view-in-github",
        "colab_type": "text"
      },
      "source": [
        "<a href=\"https://colab.research.google.com/github/Sowmiyasubramaniam/MyWorks/blob/main/Untitled5.ipynb\" target=\"_parent\"><img src=\"https://colab.research.google.com/assets/colab-badge.svg\" alt=\"Open In Colab\"/></a>"
      ]
    },
    {
      "cell_type": "markdown",
      "source": [
        "# Data Science Tools and Ecosystem\n"
      ],
      "metadata": {
        "id": "69Ybc9Wk9qms"
      }
    },
    {
      "cell_type": "markdown",
      "source": [
        "In this notebook, we will explore the key tools, languages, and libraries used in Data Science. We'll also demonstrate some basic arithmetic operations using code cells.\n"
      ],
      "metadata": {
        "id": "ywFwmIz6_Q4t"
      }
    },
    {
      "cell_type": "markdown",
      "source": [
        "**Some popular languages used in Data Science are:**\n",
        "\n",
        "- Python\n",
        "- R\n",
        "- SQL\n",
        "- Julia\n"
      ],
      "metadata": {
        "id": "gspTfq89_u8g"
      }
    },
    {
      "cell_type": "markdown",
      "source": [
        "**Some commonly used libraries for Data Science include:**\n",
        "\n",
        "- NumPy\n",
        "- Pandas\n",
        "- Matplotlib\n",
        "- Scikit-learn\n",
        "- TensorFlow\n"
      ],
      "metadata": {
        "id": "Uo3xqzR-AktO"
      }
    },
    {
      "cell_type": "markdown",
      "source": [
        "| Tool           | Description                  |\n",
        "|----------------|------------------------------|\n",
        "| Jupyter Notebook | Interactive coding environment |\n",
        "| RStudio         | IDE for R programming         |\n",
        "| Apache Spark    | Big Data Processing Framework |\n"
      ],
      "metadata": {
        "id": "SHbJeUoYBDIy"
      }
    },
    {
      "cell_type": "markdown",
      "source": [
        "Below are examples of evaluating arithmetic expressions using Python.\n"
      ],
      "metadata": {
        "id": "yFKFlYeRCm0p"
      }
    },
    {
      "cell_type": "code",
      "source": [
        "# This code multiplies and adds two numbers\n",
        "(3 * 4) + 5\n"
      ],
      "metadata": {
        "colab": {
          "base_uri": "https://localhost:8080/"
        },
        "id": "oHAtWZ2YDOVc",
        "outputId": "6f3ed7c8-89ce-4383-e363-85253c47cdc2"
      },
      "execution_count": 2,
      "outputs": [
        {
          "output_type": "execute_result",
          "data": {
            "text/plain": [
              "17"
            ]
          },
          "metadata": {},
          "execution_count": 2
        }
      ]
    },
    {
      "cell_type": "code",
      "source": [
        "# This will convert 200 minutes to hours\n",
        "200 / 60\n"
      ],
      "metadata": {
        "colab": {
          "base_uri": "https://localhost:8080/"
        },
        "id": "esI9jUG1EnSF",
        "outputId": "a3663eba-a844-4482-af28-33e0524fca3c"
      },
      "execution_count": 3,
      "outputs": [
        {
          "output_type": "execute_result",
          "data": {
            "text/plain": [
              "3.3333333333333335"
            ]
          },
          "metadata": {},
          "execution_count": 3
        }
      ]
    },
    {
      "cell_type": "markdown",
      "source": [
        "**Objectives:**\n",
        "\n",
        "- List popular languages used in Data Science\n",
        "- List commonly used libraries\n",
        "- Create markdown tables\n",
        "- Perform basic math operations in code cells\n"
      ],
      "metadata": {
        "id": "zcFZzKYfE5l4"
      }
    },
    {
      "cell_type": "markdown",
      "source": [
        "**Author:** Sowmiya S\n"
      ],
      "metadata": {
        "id": "6za7fK1fFNEN"
      }
    }
  ]
}